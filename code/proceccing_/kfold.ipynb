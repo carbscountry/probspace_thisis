{
 "cells": [
  {
   "cell_type": "code",
   "execution_count": 1,
   "id": "d6eb8a94-80e0-475c-a1d2-f9afbce8e6dc",
   "metadata": {
    "tags": []
   },
   "outputs": [],
   "source": [
    "## import library\n",
    "import os,sys,re\n",
    "import pandas as pd\n",
    "from sklearn.model_selection import StratifiedKFold"
   ]
  },
  {
   "cell_type": "code",
   "execution_count": 8,
   "id": "75c553cd-2a6c-4509-ba6b-2066bf916ed9",
   "metadata": {
    "tags": []
   },
   "outputs": [],
   "source": [
    "# 各種パスの設定\n",
    "######################################################################\n",
    "base_path = '/workspace/' # ベースとなるパスを指定してください。#######\n",
    "######################################################################\n",
    "train_data_path = os.path.join(base_path,'data/train_data.csv') # 訓練データのパスを指定\n",
    "test_data_path = os.path.join(base_path,'data/test_data.csv') # テストデータのパスを指定\n",
    "submit_data_path = os.path.join(base_path,'data/submission.csv') # 提出用サンプルfileのパスを指定"
   ]
  },
  {
   "cell_type": "code",
   "execution_count": 44,
   "id": "be445c3b-e0b1-4f12-9252-8d035d9ea890",
   "metadata": {
    "tags": []
   },
   "outputs": [
    {
     "data": {
      "text/plain": [
       "(4974, 6)"
      ]
     },
     "metadata": {},
     "output_type": "display_data"
    },
    {
     "data": {
      "text/plain": [
       "0    3451\n",
       "1    1523\n",
       "Name: y, dtype: int64"
      ]
     },
     "metadata": {},
     "output_type": "display_data"
    }
   ],
   "source": [
    "#read data\n",
    "train_df = pd.read_csv(train_data_path)\n",
    "display(train_df.shape)\n",
    "display(train_df[\"y\"].value_counts())"
   ]
  },
  {
   "cell_type": "code",
   "execution_count": 48,
   "id": "bfae1fe3-783c-492c-b9fc-d5a1d5f8cc1b",
   "metadata": {
    "tags": []
   },
   "outputs": [],
   "source": [
    "y = train_df[\"y\"]\n",
    "train_df[\"folds\"] = 0 #fold番号を格納するカラムを作成"
   ]
  },
  {
   "cell_type": "code",
   "execution_count": 49,
   "id": "92515190-0948-40d3-bd75-7a1e99297375",
   "metadata": {
    "tags": []
   },
   "outputs": [],
   "source": [
    "#StratifiedKFold クラスの定義\n",
    "n = 5\n",
    "skf = StratifiedKFold(n_splits=n)"
   ]
  },
  {
   "cell_type": "code",
   "execution_count": 61,
   "id": "a96178d0-7226-4fea-ae1f-34633b17fcbf",
   "metadata": {
    "tags": []
   },
   "outputs": [
    {
     "name": "stdout",
     "output_type": "stream",
     "text": [
      "Fold 0:\n"
     ]
    },
    {
     "data": {
      "text/plain": [
       "0    691\n",
       "1    304\n",
       "Name: y, dtype: int64"
      ]
     },
     "metadata": {},
     "output_type": "display_data"
    },
    {
     "name": "stdout",
     "output_type": "stream",
     "text": [
      "Fold 1:\n"
     ]
    },
    {
     "data": {
      "text/plain": [
       "0    690\n",
       "1    305\n",
       "Name: y, dtype: int64"
      ]
     },
     "metadata": {},
     "output_type": "display_data"
    },
    {
     "name": "stdout",
     "output_type": "stream",
     "text": [
      "Fold 2:\n"
     ]
    },
    {
     "data": {
      "text/plain": [
       "0    690\n",
       "1    305\n",
       "Name: y, dtype: int64"
      ]
     },
     "metadata": {},
     "output_type": "display_data"
    },
    {
     "name": "stdout",
     "output_type": "stream",
     "text": [
      "Fold 3:\n"
     ]
    },
    {
     "data": {
      "text/plain": [
       "0    690\n",
       "1    305\n",
       "Name: y, dtype: int64"
      ]
     },
     "metadata": {},
     "output_type": "display_data"
    },
    {
     "name": "stdout",
     "output_type": "stream",
     "text": [
      "Fold 4:\n"
     ]
    },
    {
     "data": {
      "text/plain": [
       "0    690\n",
       "1    304\n",
       "Name: y, dtype: int64"
      ]
     },
     "metadata": {},
     "output_type": "display_data"
    }
   ],
   "source": [
    "for i, (train_index, test_index) in enumerate(skf.split(X, y)):\n",
    "    print(f\"Fold {i}:\")\n",
    "    train_df.loc[test_index,\"folds\"] = i\n",
    "    display(train_df[train_df[\"folds\"] == i][\"y\"].value_counts())"
   ]
  },
  {
   "cell_type": "code",
   "execution_count": 62,
   "id": "2d32de8a-4d41-44d5-aa4c-53034d1cf90f",
   "metadata": {
    "tags": []
   },
   "outputs": [],
   "source": [
    "#書き出し\n",
    "train_df.to_csv(os.path.join(base_path,\"data/StratifiedKFold_train_data.csv\"))"
   ]
  }
 ],
 "metadata": {
  "kernelspec": {
   "display_name": "Python 3 (ipykernel)",
   "language": "python",
   "name": "python3"
  },
  "language_info": {
   "codemirror_mode": {
    "name": "ipython",
    "version": 3
   },
   "file_extension": ".py",
   "mimetype": "text/x-python",
   "name": "python",
   "nbconvert_exporter": "python",
   "pygments_lexer": "ipython3",
   "version": "3.8.10"
  }
 },
 "nbformat": 4,
 "nbformat_minor": 5
}
